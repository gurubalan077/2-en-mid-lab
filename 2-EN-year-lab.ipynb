{
 "cells": [
  {
   "cell_type": "markdown",
   "id": "8cce7099",
   "metadata": {},
   "source": [
    "# Crash Course on Python – I & II"
   ]
  },
  {
   "cell_type": "code",
   "execution_count": 1,
   "id": "0cdf499b",
   "metadata": {},
   "outputs": [
    {
     "name": "stdout",
     "output_type": "stream",
     "text": [
      "Value: 10 Type: <class 'int'>\n",
      "Value: 3.14 Type: <class 'float'>\n",
      "Value: (2+3j) Type: <class 'complex'>\n"
     ]
    }
   ],
   "source": [
    "# Integer Example\n",
    "num1 = 10 \n",
    "print(\"Value:\", num1, \"Type:\", type(num1))\n",
    "#Float Example\n",
    "num2 = 3.14\n",
    "print(\"Value:\", num2, \"Type:\", type(num2))\n",
    "# Complex Example\n",
    "num3 = 2 + 3j\n",
    "print(\"Value:\", num3, \"Type:\", type(num3))"
   ]
  },
  {
   "cell_type": "code",
   "execution_count": 2,
   "id": "c7acd229",
   "metadata": {},
   "outputs": [
    {
     "name": "stdout",
     "output_type": "stream",
     "text": [
      "Value: HOLA FOLKS Type: <class 'str'>\n",
      "Value: [1, 2, 3, 'four', 'five'] Type: <class 'list'>\n",
      "Value: (1, 2, 3, 'four', 'five') Type: <class 'tuple'>\n",
      "Value: {1, 2, 3, 'five', 'four'} Type: <class 'set'>\n",
      "Value: {'name': 'Vikneshraj D', 'age': 18, 'city': 'Hubli'} Type: <class 'dict'>\n"
     ]
    }
   ],
   "source": [
    "#String datatype:\n",
    "name1=\"HOLA FOLKS\"\n",
    "print(\"Value:\", name1, \"Type:\", type(name1))\n",
    "#List datatype:\n",
    "name2 = [1, 2, 3, \"four\", \"five\"]\n",
    "print(\"Value:\", name2, \"Type:\", type(name2))\n",
    "#Tuple datatype:\n",
    "name3 = (1, 2, 3, \"four\", \"five\")\n",
    "print(\"Value:\", name3, \"Type:\", type(name3))\n",
    "#Set datatype:\n",
    "name4 = {1, 2, 3, \"four\", \"five\"}\n",
    "print(\"Value:\", name4, \"Type:\", type(name4))\n",
    "#Dictionary datatype:\n",
    "name5 = {\"name\": \"Vikneshraj D\", \"age\": 18, \"city\": \"Hubli\"}\n",
    "print(\"Value:\", name5, \"Type:\", type(name5))"
   ]
  },
  {
   "cell_type": "code",
   "execution_count": 3,
   "id": "7ee47b1b",
   "metadata": {},
   "outputs": [
    {
     "name": "stdout",
     "output_type": "stream",
     "text": [
      "apple\n",
      "banana\n",
      "cherry\n"
     ]
    }
   ],
   "source": [
    "#For Loops\n",
    "fruits = [\"apple\", \"banana\", \"cherry\"]\n",
    "for fruit in fruits:\n",
    "    print(fruit)"
   ]
  },
  {
   "cell_type": "code",
   "execution_count": 4,
   "id": "5f51021f",
   "metadata": {},
   "outputs": [
    {
     "name": "stdout",
     "output_type": "stream",
     "text": [
      "Enter the number: 4\n",
      "The sum is 10\n"
     ]
    }
   ],
   "source": [
    "A=input(\"Enter the number: \")\n",
    "val = 0\n",
    "i = 0\n",
    "while i <= int(A):\n",
    " val += i\n",
    " i += 1\n",
    " \n",
    "print(f\"The sum is {val}\")"
   ]
  },
  {
   "cell_type": "code",
   "execution_count": 5,
   "id": "d945e6a0",
   "metadata": {},
   "outputs": [
    {
     "name": "stdout",
     "output_type": "stream",
     "text": [
      "7\n"
     ]
    }
   ],
   "source": [
    "def add_numbers(x, y):\n",
    " sum_result = x + y\n",
    " return sum_result\n",
    "result = add_numbers(3, 4)\n",
    "print(result)"
   ]
  },
  {
   "cell_type": "code",
   "execution_count": 6,
   "id": "a6d20905",
   "metadata": {},
   "outputs": [
    {
     "name": "stdout",
     "output_type": "stream",
     "text": [
      "Enter The number4\n",
      "The number is positive \n"
     ]
    }
   ],
   "source": [
    "x = int(input(\"Enter The number\"))\n",
    "if x > 0 :\n",
    " print(\"The number is positive \")\n",
    "elif x < 0 :\n",
    " print(\"The number is negivite\")\n",
    " \n",
    "else:\n",
    " print(\"The number is ZERO\")"
   ]
  },
  {
   "cell_type": "markdown",
   "id": "db9f1ce9",
   "metadata": {},
   "source": [
    "# Implementation of Binary Search Algorithm in Python"
   ]
  },
  {
   "cell_type": "code",
   "execution_count": 7,
   "id": "ea383135",
   "metadata": {},
   "outputs": [],
   "source": [
    "data = [1,2,3,4,5,6,7,8,9,10,11,12,13,14,15,16,28,29,30,31,879,17,18,19,20,21,22,23]"
   ]
  },
  {
   "cell_type": "code",
   "execution_count": 8,
   "id": "ca270291",
   "metadata": {},
   "outputs": [],
   "source": [
    "data.sort()"
   ]
  },
  {
   "cell_type": "code",
   "execution_count": 9,
   "id": "185d90d0",
   "metadata": {},
   "outputs": [
    {
     "name": "stdout",
     "output_type": "stream",
     "text": [
      "[1, 2, 3, 4, 5, 6, 7, 8, 9, 10, 11, 12, 13, 14, 15, 16, 17, 18, 19, 20, 21, 22, 23, 28, 29, 30, 31, 879]\n"
     ]
    }
   ],
   "source": [
    "print(data)"
   ]
  },
  {
   "cell_type": "code",
   "execution_count": 10,
   "id": "d5d39bfc",
   "metadata": {},
   "outputs": [
    {
     "name": "stdout",
     "output_type": "stream",
     "text": [
      "enter the search element :4\n"
     ]
    }
   ],
   "source": [
    "elem=int(input(\"enter the search element :\"))"
   ]
  },
  {
   "cell_type": "code",
   "execution_count": 11,
   "id": "cbe54ff6",
   "metadata": {},
   "outputs": [],
   "source": [
    "def binary_search(data, elem):\n",
    "    low = 0\n",
    "    high = len(data) - 1\n",
    "    \n",
    "    while low <= high:\n",
    "        middle = (low + high) // 2\n",
    "        \n",
    "        if data[middle] == elem:\n",
    "            print(f\"The search element {elem} is present at index value {middle} in dataset\")\n",
    "            break\n",
    "        \n",
    "        elif data[middle] > elem:\n",
    "            high = middle - 1\n",
    "        \n",
    "        else:\n",
    "            low = middle + 1\n",
    "            \n",
    "    if data[middle] != elem:\n",
    "        print(f\"The search element {elem} is not present in the dataset\")\n",
    "        return -1"
   ]
  },
  {
   "cell_type": "code",
   "execution_count": 12,
   "id": "f85349f1",
   "metadata": {},
   "outputs": [
    {
     "name": "stdout",
     "output_type": "stream",
     "text": [
      "The search element 4 is present at index value 3 in dataset\n"
     ]
    }
   ],
   "source": [
    " binary_search(data,elem)"
   ]
  },
  {
   "cell_type": "markdown",
   "id": "fa9ebada",
   "metadata": {},
   "source": [
    "# Implementation of Bubble Sort Algorithm in Python"
   ]
  },
  {
   "cell_type": "code",
   "execution_count": 13,
   "id": "a5e624e2",
   "metadata": {},
   "outputs": [
    {
     "name": "stdout",
     "output_type": "stream",
     "text": [
      "Before sorting the Array in Ascending Order :\n",
      "[-2, 45, 0, 54, 88, 99, 24, 513, 90]\n",
      "After Before sorting the array in Ascending Order:\n",
      "[-2, 0, 24, 45, 54, 88, 90, 99, 513]\n"
     ]
    }
   ],
   "source": [
    "# Bubble sort in python\n",
    "\n",
    "def bubblesort(data):\n",
    "    \n",
    "  # loop to access each array in element\n",
    "  for i in range(len(data)):\n",
    "        \n",
    "    # loop to compare array element\n",
    "    for j in range(0,len(data) - i - 1):\n",
    "        \n",
    "      #compare two adjecent element\n",
    "       if data[j] > data [j + 1]:\n",
    "            \n",
    "            # swapping element if element are not in the intemded order\n",
    "            temp = data[j]\n",
    "            data[j] = data[j+1]\n",
    "            data[j+1] = temp\n",
    "            \n",
    "data = [-2,45,0,54,88,99,24,513,90,]\n",
    "\n",
    "print('Before sorting the Array in Ascending Order :')\n",
    "print(data)\n",
    "\n",
    "bubblesort(data)\n",
    "\n",
    "print(\"After Before sorting the array in Ascending Order:\")\n",
    "print(data)"
   ]
  },
  {
   "cell_type": "markdown",
   "id": "44e0695c",
   "metadata": {},
   "source": [
    "# Implementation of Best First Search Algorithm"
   ]
  },
  {
   "cell_type": "code",
   "execution_count": 14,
   "id": "74feb147",
   "metadata": {},
   "outputs": [
    {
     "name": "stdout",
     "output_type": "stream",
     "text": [
      "\n"
     ]
    }
   ],
   "source": [
    "from queue import PriorityQueue\n",
    "\n",
    "v = 14\n",
    "graph = [[] for i in range(v)]\n",
    "\n",
    "def best_first_search(actual_src, target, n):\n",
    "    visited = [False] * n\n",
    "    pq = PriorityQueue()\n",
    "    pq.put((0, actual_src))\n",
    "    visited[actual_src] = True\n",
    "\n",
    "    while pq.empty() == False:\n",
    "        u = pq.get()[1]\n",
    "        print(u, end=\" \")\n",
    "        if u == target:\n",
    "            break\n",
    "\n",
    "        for v, c in graph[u]:\n",
    "            if  visited[v] == False:\n",
    "                visited[v] = True\n",
    "                pq.put((c, v))\n",
    "\n",
    "print()\n",
    "\n",
    "def addedge(x, y, cost):\n",
    "    graph[x].append((y, cost))\n",
    "    graph[y].append((x, cost))\n",
    "\n",
    "addedge(0, 1, 3)\n",
    "addedge(0, 2, 6)\n",
    "addedge(0, 3, 5)\n",
    "addedge(1, 4, 9)  \n",
    "addedge(1, 5, 8)\n",
    "addedge(2, 6, 12)\n",
    "addedge(2, 7, 14)\n",
    "addedge(3, 8, 7)\n",
    "addedge(8, 9, 5)\n",
    "addedge(8, 10, 6)\n",
    "addedge(9, 11, 1)\n",
    "addedge(9, 12, 10)\n",
    "addedge(9, 13, 2)"
   ]
  },
  {
   "cell_type": "code",
   "execution_count": 15,
   "id": "1ef3efbd",
   "metadata": {},
   "outputs": [
    {
     "name": "stdout",
     "output_type": "stream",
     "text": [
      "0 1 3 2 8 9 11 13 10 5 4 12 6 7 "
     ]
    }
   ],
   "source": [
    "sourse = 0\n",
    "target = 14\n",
    "best_first_search(sourse, target, v)"
   ]
  },
  {
   "cell_type": "markdown",
   "id": "f7703d7a",
   "metadata": {},
   "source": [
    "# Implementation of A* Algorithm"
   ]
  },
  {
   "cell_type": "code",
   "execution_count": 16,
   "id": "33fdac4d",
   "metadata": {},
   "outputs": [
    {
     "name": "stdout",
     "output_type": "stream",
     "text": [
      "Requirement already satisfied: networkx in ./PHTHON/anaconda3/lib/python3.11/site-packages (3.1)\n",
      "Note: you may need to restart the kernel to use updated packages.\n"
     ]
    }
   ],
   "source": [
    "pip install networkx"
   ]
  },
  {
   "cell_type": "code",
   "execution_count": 17,
   "id": "b19b3036",
   "metadata": {},
   "outputs": [],
   "source": [
    "import networkx as nx\n",
    "import matplotlib.pyplot as plt\n",
    "%matplotlib inline"
   ]
  },
  {
   "cell_type": "code",
   "execution_count": 18,
   "id": "1062044a",
   "metadata": {},
   "outputs": [],
   "source": [
    "def dist(a, b):\n",
    "    (x1, y1) = a\n",
    "    (x2 ,y2) = b\n",
    "    return ((x1 - x2) ** 2 + (y1 - y2) ** 2) ** 0.5\n"
   ]
  },
  {
   "cell_type": "code",
   "execution_count": 19,
   "id": "bfdb8253",
   "metadata": {},
   "outputs": [],
   "source": [
    "G = nx.grid_graph(dim=[4, 4])\n",
    "nx.set_edge_attributes(G , {e: e [1][0] * 2 for e in G.edges()}, \"cost\")"
   ]
  },
  {
   "cell_type": "code",
   "execution_count": 20,
   "id": "875d657d",
   "metadata": {},
   "outputs": [
    {
     "data": {
      "image/png": "[encoded data removed]",
      "text/plain": [
       "<Figure size 640x480 with 1 Axes>"
      ]
     },
     "metadata": {},
     "output_type": "display_data"
    }
   ],
   "source": [
    "pos = nx.spring_layout(G)\n",
    "nx.draw(G, pos, with_labels=True, node_color=\"#98FB98\") \n",
    "edge_labels = nx.get_edge_attributes(G, \"cost\")\n",
    "nx.draw_networkx_edge_labels(G, pos, edge_labels=edge_labels) \n",
    "plt.show()"
   ]
  },
  {
   "cell_type": "code",
   "execution_count": 21,
   "id": "0f8a2409",
   "metadata": {},
   "outputs": [],
   "source": [
    "path = nx.astar_path(G,(1,1),(2, 3), heuristic=dist, weight = \"cost\")"
   ]
  },
  {
   "cell_type": "code",
   "execution_count": 22,
   "id": "e66492e4",
   "metadata": {},
   "outputs": [],
   "source": [
    "length = nx.astar_path_length(G, (1,1) , (2,3),heuristic=dist, weight = \"cost\")"
   ]
  },
  {
   "cell_type": "code",
   "execution_count": 23,
   "id": "add2dea3",
   "metadata": {},
   "outputs": [
    {
     "name": "stdout",
     "output_type": "stream",
     "text": [
      "path :  [(1, 1), (1, 2), (1, 3), (2, 3)]\n"
     ]
    }
   ],
   "source": [
    "print('path : ' , path)"
   ]
  },
  {
   "cell_type": "code",
   "execution_count": 24,
   "id": "94478303",
   "metadata": {},
   "outputs": [
    {
     "name": "stdout",
     "output_type": "stream",
     "text": [
      "length :  8\n"
     ]
    }
   ],
   "source": [
    "print('length : ',length)"
   ]
  },
  {
   "cell_type": "markdown",
   "id": "8a9f22bf",
   "metadata": {},
   "source": [
    "# Building Semantic Network in Python"
   ]
  },
  {
   "cell_type": "code",
   "execution_count": 25,
   "id": "aff19b62",
   "metadata": {},
   "outputs": [],
   "source": [
    "import networkx as nx"
   ]
  },
  {
   "cell_type": "code",
   "execution_count": 26,
   "id": "ec84763c",
   "metadata": {},
   "outputs": [],
   "source": [
    "import matplotlib.pyplot as plt\n",
    "%matplotlib notebook"
   ]
  },
  {
   "cell_type": "code",
   "execution_count": 27,
   "id": "472f81c6",
   "metadata": {},
   "outputs": [],
   "source": [
    "graph_Mark = nx.DiGraph(Info = \"Mark's Details\")"
   ]
  },
  {
   "cell_type": "code",
   "execution_count": 28,
   "id": "4da0d680",
   "metadata": {},
   "outputs": [],
   "source": [
    "graph_Mark.add_node(\"Mark\",pos=(0,0))\n",
    "graph_Mark.add_node(\"Cat\",pos=(-2,6))\n",
    "graph_Mark.add_node(\"student\",pos=(2,-5))\n",
    "graph_Mark.add_node(\"animal\",pos=(1,6))\n",
    "graph_Mark.add_node(\"california\",pos=(4,6))\n",
    "graph_Mark.add_node(\"spinoff\",pos=(-5,-5))\n",
    "graph_Mark.add_node(\"soccer\",pos=(-5,2))\n",
    "graph_Mark.add_node(\"sports\",pos=(0,-8))\n",
    "graph_Mark.add_node(\"CSU\",pos=(5,-1))\n",
    "pos=nx.get_node_attributes(graph_Mark,\"pos\")"
   ]
  },
  {
   "cell_type": "code",
   "execution_count": 29,
   "id": "c1996b5a",
   "metadata": {},
   "outputs": [],
   "source": [
    "graph_Mark.add_edge(\"Mark\",\"Cat\",weight=\"has a\")\n",
    "graph_Mark.add_edge(\"Mark\",\"student\",weight=\"is a\")\n",
    "graph_Mark.add_edge(\"Cat\",\"animal\",weight=\"is a\")\n",
    "graph_Mark.add_edge(\"Mark\",\"soccer\",weight=\"plays\")\n",
    "graph_Mark.add_edge(\"Mark\",\"spinoff\",weight=\"is a part of\")\n",
    "graph_Mark.add_edge(\"Mark\",\"california\",weight=\"lives in\")\n",
    "graph_Mark.add_edge(\"Mark\",\"animal\",weight=\"loves\")\n",
    "graph_Mark.add_edge(\"student\",\"CSU\",weight=\"in\")\n",
    "graph_Mark.add_edge(\"spinoff\",\"sports\",weight=\"is a \")\n",
    "graph_Mark.add_edge(\"CSU\",\"california\",weight=\"is in \")\n",
    "weight=nx.get_edge_attributes(graph_Mark,\"weight\")"
   ]
  },
  {
   "cell_type": "code",
   "execution_count": 34,
   "id": "deeaa43d",
   "metadata": {},
   "outputs": [
    {
     "data": {
      "application/javascript": [
       "/* Put everything inside the global mpl namespace */\n",
       "/* global mpl */\n",
       "window.mpl = {};\n",
       "\n",
       "mpl.get_websocket_type = function () {\n",
       "    if (typeof WebSocket !== 'undefined') {\n",
       "        return WebSocket;\n",
       "    } else if (typeof MozWebSocket !== 'undefined') {\n",
       "        return MozWebSocket;\n",
       "    } else {\n",
       "        alert(\n",
       "            'Your browser does not have WebSocket support. ' +\n",
       "                'Please try Chrome, Safari or Firefox ≥ 6. ' +\n",
       "                'Firefox 4 and 5 are also supported but you ' +\n",
       "                'have to enable WebSockets in about:config.'\n",
       "        );\n",
       "    }\n",
       "};\n",
       "\n",
       "mpl.figure = function (figure_id, websocket, ondownload, parent_element) {\n",
       "    this.id = figure_id;\n",
       "\n",
       "    this.ws = websocket;\n",
       "\n",
       "    this.supports_binary = this.ws.binaryType !== undefined;\n",
       "\n",
       "    if (!this.supports_binary) {\n",
       "        var warnings = document.getElementById('mpl-warnings');\n",
       "        if (warnings) {\n",
       "            warnings.style.display = 'block';\n",
       "            warnings.textContent =\n",
       "                'This browser does not support binary websocket messages. ' +\n",
       "                'Performance may be slow.';\n",
       "        }\n",
       "    }\n",
       "\n",
       "    this.imageObj = new Image();\n",
       "\n",
       "    this.context = undefined;\n",
       "    this.message = undefined;\n",
       "    this.canvas = undefined;\n",
       "    this.rubberband_canvas = undefined;\n",
       "    this.rubberband_context = undefined;\n",
       "    this.format_dropdown = undefined;\n",
       "\n",
       "    this.image_mode = 'full';\n",
       "\n",
       "    this.root = document.createElement('div');\n",
       "    this.root.setAttribute('style', 'display: inline-block');\n",
       "    this._root_extra_style(this.root);\n",
       "\n",
       "    parent_element.appendChild(this.root);\n",
       "\n",
       "    this._init_header(this);\n",
       "    this._init_canvas(this);\n",
       "    this._init_toolbar(this);\n",
       "\n",
       "    var fig = this;\n",
       "\n",
       "    this.waiting = false;\n",
       "\n",
       "    this.ws.onopen = function () {\n",
       "        fig.send_message('supports_binary', { value: fig.supports_binary });\n",
       "        fig.send_message('send_image_mode', {});\n",
       "        if (fig.ratio !== 1) {\n",
       "            fig.send_message('set_device_pixel_ratio', {\n",
       "                device_pixel_ratio: fig.ratio,\n",
       "            });\n",
       "        }\n",
       "        fig.send_message('refresh', {});\n",
       "    };\n",
       "\n",
       "    this.imageObj.onload = function () {\n",
       "        if (fig.image_mode === 'full') {\n",
       "            // Full images could contain transparency (where diff images\n",
       "            // almost always do), so we need to clear the canvas so that\n",
       "            // there is no ghosting.\n",
       "            fig.context.clearRect(0, 0, fig.canvas.width, fig.canvas.height);\n",
       "        }\n",
       "        fig.context.drawImage(fig.imageObj, 0, 0);\n",
       "    };\n",
       "\n",
       "    this.imageObj.onunload = function () {\n",
       "        fig.ws.close();\n",
       "    };\n",
       "\n",
       "    this.ws.onmessage = this._make_on_message_function(this);\n",
       "\n",
       "    this.ondownload = ondownload;\n",
       "};\n",
       "\n",
       "mpl.figure.prototype._init_header = function () {\n",
       "    var titlebar = document.createElement('div');\n",
       "    titlebar.classList =\n",
       "        'ui-dialog-titlebar ui-widget-header ui-corner-all ui-helper-clearfix';\n",
       "    var titletext = document.createElement('div');\n",
       "    titletext.classList = 'ui-dialog-title';\n",
       "    titletext.setAttribute(\n",
       "        'style',\n",
       "        'width: 100%; text-align: center; padding: 3px;'\n",
       "    );\n",
       "    titlebar.appendChild(titletext);\n",
       "    this.root.appendChild(titlebar);\n",
       "    this.header = titletext;\n",
       "};\n",
       "\n",
       "mpl.figure.prototype._canvas_extra_style = function (_canvas_div) {};\n",
       "\n",
       "mpl.figure.prototype._root_extra_style = function (_canvas_div) {};\n",
       "\n",
       "mpl.figure.prototype._init_canvas = function () {\n",
       "    var fig = this;\n",
       "\n",
       "    var canvas_div = (this.canvas_div = document.createElement('div'));\n",
       "    canvas_div.setAttribute('tabindex', '0');\n",
       "    canvas_div.setAttribute(\n",
       "        'style',\n",
       "        'border: 1px solid #ddd;' +\n",
       "            'box-sizing: content-box;' +\n",
       "            'clear: both;' +\n",
       "            'min-height: 1px;' +\n",
       "            'min-width: 1px;' +\n",
       "            'outline: 0;' +\n",
       "            'overflow: hidden;' +\n",
       "            'position: relative;' +\n",
       "            'resize: both;' +\n",
       "            'z-index: 2;'\n",
       "    );\n",
       "\n",
       "    function on_keyboard_event_closure(name) {\n",
       "        return function (event) {\n",
       "            return fig.key_event(event, name);\n",
       "        };\n",
       "    }\n",
       "\n",
       "    canvas_div.addEventListener(\n",
       "        'keydown',\n",
       "        on_keyboard_event_closure('key_press')\n",
       "    );\n",
       "    canvas_div.addEventListener(\n",
       "        'keyup',\n",
       "        on_keyboard_event_closure('key_release')\n",
       "    );\n",
       "\n",
       "    this._canvas_extra_style(canvas_div);\n",
       "    this.root.appendChild(canvas_div);\n",
       "\n",
       "    var canvas = (this.canvas = document.createElement('canvas'));\n",
       "    canvas.classList.add('mpl-canvas');\n",
       "    canvas.setAttribute(\n",
       "        'style',\n",
       "        'box-sizing: content-box;' +\n",
       "            'pointer-events: none;' +\n",
       "            'position: relative;' +\n",
       "            'z-index: 0;'\n",
       "    );\n",
       "\n",
       "    this.context = canvas.getContext('2d');\n",
       "\n",
       "    var backingStore =\n",
       "        this.context.backingStorePixelRatio ||\n",
       "        this.context.webkitBackingStorePixelRatio ||\n",
       "        this.context.mozBackingStorePixelRatio ||\n",
       "        this.context.msBackingStorePixelRatio ||\n",
       "        this.context.oBackingStorePixelRatio ||\n",
       "        this.context.backingStorePixelRatio ||\n",
       "        1;\n",
       "\n",
       "    this.ratio = (window.devicePixelRatio || 1) / backingStore;\n",
       "\n",
       "    var rubberband_canvas = (this.rubberband_canvas = document.createElement(\n",
       "        'canvas'\n",
       "    ));\n",
       "    rubberband_canvas.setAttribute(\n",
       "        'style',\n",
       "        'box-sizing: content-box;' +\n",
       "            'left: 0;' +\n",
       "            'pointer-events: none;' +\n",
       "            'position: absolute;' +\n",
       "            'top: 0;' +\n",
       "            'z-index: 1;'\n",
       "    );\n",
       "\n",
       "    // Apply a ponyfill if ResizeObserver is not implemented by browser.\n",
       "    if (this.ResizeObserver === undefined) {\n",
       "        if (window.ResizeObserver !== undefined) {\n",
       "            this.ResizeObserver = window.ResizeObserver;\n",
       "        } else {\n",
       "            var obs = _JSXTOOLS_RESIZE_OBSERVER({});\n",
       "            this.ResizeObserver = obs.ResizeObserver;\n",
       "        }\n",
       "    }\n",
       "\n",
       "    this.resizeObserverInstance = new this.ResizeObserver(function (entries) {\n",
       "        var nentries = entries.length;\n",
       "        for (var i = 0; i < nentries; i++) {\n",
       "            var entry = entries[i];\n",
       "            var width, height;\n",
       "            if (entry.contentBoxSize) {\n",
       "                if (entry.contentBoxSize instanceof Array) {\n",
       "                    // Chrome 84 implements new version of spec.\n",
       "                    width = entry.contentBoxSize[0].inlineSize;\n",
       "                    height = entry.contentBoxSize[0].blockSize;\n",
       "                } else {\n",
       "                    // Firefox implements old version of spec.\n",
       "                    width = entry.contentBoxSize.inlineSize;\n",
       "                    height = entry.contentBoxSize.blockSize;\n",
       "                }\n",
       "            } else {\n",
       "                // Chrome <84 implements even older version of spec.\n",
       "                width = entry.contentRect.width;\n",
       "                height = entry.contentRect.height;\n",
       "            }\n",
       "\n",
       "            // Keep the size of the canvas and rubber band canvas in sync with\n",
       "            // the canvas container.\n",
       "            if (entry.devicePixelContentBoxSize) {\n",
       "                // Chrome 84 implements new version of spec.\n",
       "                canvas.setAttribute(\n",
       "                    'width',\n",
       "                    entry.devicePixelContentBoxSize[0].inlineSize\n",
       "                );\n",
       "                canvas.setAttribute(\n",
       "                    'height',\n",
       "                    entry.devicePixelContentBoxSize[0].blockSize\n",
       "                );\n",
       "            } else {\n",
       "                canvas.setAttribute('width', width * fig.ratio);\n",
       "                canvas.setAttribute('height', height * fig.ratio);\n",
       "            }\n",
       "            /* This rescales the canvas back to display pixels, so that it\n",
       "             * appears correct on HiDPI screens. */\n",
       "            canvas.style.width = width + 'px';\n",
       "            canvas.style.height = height + 'px';\n",
       "\n",
       "            rubberband_canvas.setAttribute('width', width);\n",
       "            rubberband_canvas.setAttribute('height', height);\n",
       "\n",
       "            // And update the size in Python. We ignore the initial 0/0 size\n",
       "            // that occurs as the element is placed into the DOM, which should\n",
       "            // otherwise not happen due to the minimum size styling.\n",
       "            if (fig.ws.readyState == 1 && width != 0 && height != 0) {\n",
       "                fig.request_resize(width, height);\n",
       "            }\n",
       "        }\n",
       "    });\n",
       "    this.resizeObserverInstance.observe(canvas_div);\n",
       "\n",
       "    function on_mouse_event_closure(name) {\n",
       "        /* User Agent sniffing is bad, but WebKit is busted:\n",
       "         * https://bugs.webkit.org/show_bug.cgi?id=144526\n",
       "         * https://bugs.webkit.org/show_bug.cgi?id=181818\n",
       "         * The worst that happens here is that they get an extra browser\n",
       "         * selection when dragging, if this check fails to catch them.\n",
       "         */\n",
       "        var UA = navigator.userAgent;\n",
       "        var isWebKit = /AppleWebKit/.test(UA) && !/Chrome/.test(UA);\n",
       "        if(isWebKit) {\n",
       "            return function (event) {\n",
       "                /* This prevents the web browser from automatically changing to\n",
       "                 * the text insertion cursor when the button is pressed. We\n",
       "                 * want to control all of the cursor setting manually through\n",
       "                 * the 'cursor' event from matplotlib */\n",
       "                event.preventDefault()\n",
       "                return fig.mouse_event(event, name);\n",
       "            };\n",
       "        } else {\n",
       "            return function (event) {\n",
       "                return fig.mouse_event(event, name);\n",
       "            };\n",
       "        }\n",
       "    }\n",
       "\n",
       "    canvas_div.addEventListener(\n",
       "        'mousedown',\n",
       "        on_mouse_event_closure('button_press')\n",
       "    );\n",
       "    canvas_div.addEventListener(\n",
       "        'mouseup',\n",
       "        on_mouse_event_closure('button_release')\n",
       "    );\n",
       "    canvas_div.addEventListener(\n",
       "        'dblclick',\n",
       "        on_mouse_event_closure('dblclick')\n",
       "    );\n",
       "    // Throttle sequential mouse events to 1 every 20ms.\n",
       "    canvas_div.addEventListener(\n",
       "        'mousemove',\n",
       "        on_mouse_event_closure('motion_notify')\n",
       "    );\n",
       "\n",
       "    canvas_div.addEventListener(\n",
       "        'mouseenter',\n",
       "        on_mouse_event_closure('figure_enter')\n",
       "    );\n",
       "    canvas_div.addEventListener(\n",
       "        'mouseleave',\n",
       "        on_mouse_event_closure('figure_leave')\n",
       "    );\n",
       "\n",
       "    canvas_div.addEventListener('wheel', function (event) {\n",
       "        if (event.deltaY < 0) {\n",
       "            event.step = 1;\n",
       "        } else {\n",
       "            event.step = -1;\n",
       "        }\n",
       "        on_mouse_event_closure('scroll')(event);\n",
       "    });\n",
       "\n",
       "    canvas_div.appendChild(canvas);\n",
       "    canvas_div.appendChild(rubberband_canvas);\n",
       "\n",
       "    this.rubberband_context = rubberband_canvas.getContext('2d');\n",
       "    this.rubberband_context.strokeStyle = '#000000';\n",
       "\n",
       "    this._resize_canvas = function (width, height, forward) {\n",
       "        if (forward) {\n",
       "            canvas_div.style.width = width + 'px';\n",
       "            canvas_div.style.height = height + 'px';\n",
       "        }\n",
       "    };\n",
       "\n",
       "    // Disable right mouse context menu.\n",
       "    canvas_div.addEventListener('contextmenu', function (_e) {\n",
       "        event.preventDefault();\n",
       "        return false;\n",
       "    });\n",
       "\n",
       "    function set_focus() {\n",
       "        canvas.focus();\n",
       "        canvas_div.focus();\n",
       "    }\n",
       "\n",
       "    window.setTimeout(set_focus, 100);\n",
       "};\n",
       "\n",
       "mpl.figure.prototype._init_toolbar = function () {\n",
       "    var fig = this;\n",
       "\n",
       "    var toolbar = document.createElement('div');\n",
       "    toolbar.classList = 'mpl-toolbar';\n",
       "    this.root.appendChild(toolbar);\n",
       "\n",
       "    function on_click_closure(name) {\n",
       "        return function (_event) {\n",
       "            return fig.toolbar_button_onclick(name);\n",
       "        };\n",
       "    }\n",
       "\n",
       "    function on_mouseover_closure(tooltip) {\n",
       "        return function (event) {\n",
       "            if (!event.currentTarget.disabled) {\n",
       "                return fig.toolbar_button_onmouseover(tooltip);\n",
       "            }\n",
       "        };\n",
       "    }\n",
       "\n",
       "    fig.buttons = {};\n",
       "    var buttonGroup = document.createElement('div');\n",
       "    buttonGroup.classList = 'mpl-button-group';\n",
       "    for (var toolbar_ind in mpl.toolbar_items) {\n",
       "        var name = mpl.toolbar_items[toolbar_ind][0];\n",
       "        var tooltip = mpl.toolbar_items[toolbar_ind][1];\n",
       "        var image = mpl.toolbar_items[toolbar_ind][2];\n",
       "        var method_name = mpl.toolbar_items[toolbar_ind][3];\n",
       "\n",
       "        if (!name) {\n",
       "            /* Instead of a spacer, we start a new button group. */\n",
       "            if (buttonGroup.hasChildNodes()) {\n",
       "                toolbar.appendChild(buttonGroup);\n",
       "            }\n",
       "            buttonGroup = document.createElement('div');\n",
       "            buttonGroup.classList = 'mpl-button-group';\n",
       "            continue;\n",
       "        }\n",
       "\n",
       "        var button = (fig.buttons[name] = document.createElement('button'));\n",
       "        button.classList = 'mpl-widget';\n",
       "        button.setAttribute('role', 'button');\n",
       "        button.setAttribute('aria-disabled', 'false');\n",
       "        button.addEventListener('click', on_click_closure(method_name));\n",
       "        button.addEventListener('mouseover', on_mouseover_closure(tooltip));\n",
       "\n",
       "        var icon_img = document.createElement('img');\n",
       "        icon_img.src = '_images/' + image + '.png';\n",
       "        icon_img.srcset = '_images/' + image + '_large.png 2x';\n",
       "        icon_img.alt = tooltip;\n",
       "        button.appendChild(icon_img);\n",
       "\n",
       "        buttonGroup.appendChild(button);\n",
       "    }\n",
       "\n",
       "    if (buttonGroup.hasChildNodes()) {\n",
       "        toolbar.appendChild(buttonGroup);\n",
       "    }\n",
       "\n",
       "    var fmt_picker = document.createElement('select');\n",
       "    fmt_picker.classList = 'mpl-widget';\n",
       "    toolbar.appendChild(fmt_picker);\n",
       "    this.format_dropdown = fmt_picker;\n",
       "\n",
       "    for (var ind in mpl.extensions) {\n",
       "        var fmt = mpl.extensions[ind];\n",
       "        var option = document.createElement('option');\n",
       "        option.selected = fmt === mpl.default_extension;\n",
       "        option.innerHTML = fmt;\n",
       "        fmt_picker.appendChild(option);\n",
       "    }\n",
       "\n",
       "    var status_bar = document.createElement('span');\n",
       "    status_bar.classList = 'mpl-message';\n",
       "    toolbar.appendChild(status_bar);\n",
       "    this.message = status_bar;\n",
       "};\n",
       "\n",
       "mpl.figure.prototype.request_resize = function (x_pixels, y_pixels) {\n",
       "    // Request matplotlib to resize the figure. Matplotlib will then trigger a resize in the client,\n",
       "    // which will in turn request a refresh of the image.\n",
       "    this.send_message('resize', { width: x_pixels, height: y_pixels });\n",
       "};\n",
       "\n",
       "mpl.figure.prototype.send_message = function (type, properties) {\n",
       "    properties['type'] = type;\n",
       "    properties['figure_id'] = this.id;\n",
       "    this.ws.send(JSON.stringify(properties));\n",
       "};\n",
       "\n",
       "mpl.figure.prototype.send_draw_message = function () {\n",
       "    if (!this.waiting) {\n",
       "        this.waiting = true;\n",
       "        this.ws.send(JSON.stringify({ type: 'draw', figure_id: this.id }));\n",
       "    }\n",
       "};\n",
       "\n",
       "mpl.figure.prototype.handle_save = function (fig, _msg) {\n",
       "    var format_dropdown = fig.format_dropdown;\n",
       "    var format = format_dropdown.options[format_dropdown.selectedIndex].value;\n",
       "    fig.ondownload(fig, format);\n",
       "};\n",
       "\n",
       "mpl.figure.prototype.handle_resize = function (fig, msg) {\n",
       "    var size = msg['size'];\n",
       "    if (size[0] !== fig.canvas.width || size[1] !== fig.canvas.height) {\n",
       "        fig._resize_canvas(size[0], size[1], msg['forward']);\n",
       "        fig.send_message('refresh', {});\n",
       "    }\n",
       "};\n",
       "\n",
       "mpl.figure.prototype.handle_rubberband = function (fig, msg) {\n",
       "    var x0 = msg['x0'] / fig.ratio;\n",
       "    var y0 = (fig.canvas.height - msg['y0']) / fig.ratio;\n",
       "    var x1 = msg['x1'] / fig.ratio;\n",
       "    var y1 = (fig.canvas.height - msg['y1']) / fig.ratio;\n",
       "    x0 = Math.floor(x0) + 0.5;\n",
       "    y0 = Math.floor(y0) + 0.5;\n",
       "    x1 = Math.floor(x1) + 0.5;\n",
       "    y1 = Math.floor(y1) + 0.5;\n",
       "    var min_x = Math.min(x0, x1);\n",
       "    var min_y = Math.min(y0, y1);\n",
       "    var width = Math.abs(x1 - x0);\n",
       "    var height = Math.abs(y1 - y0);\n",
       "\n",
       "    fig.rubberband_context.clearRect(\n",
       "        0,\n",
       "        0,\n",
       "        fig.canvas.width / fig.ratio,\n",
       "        fig.canvas.height / fig.ratio\n",
       "    );\n",
       "\n",
       "    fig.rubberband_context.strokeRect(min_x, min_y, width, height);\n",
       "};\n",
       "\n",
       "mpl.figure.prototype.handle_figure_label = function (fig, msg) {\n",
       "    // Updates the figure title.\n",
       "    fig.header.textContent = msg['label'];\n",
       "};\n",
       "\n",
       "mpl.figure.prototype.handle_cursor = function (fig, msg) {\n",
       "    fig.canvas_div.style.cursor = msg['cursor'];\n",
       "};\n",
       "\n",
       "mpl.figure.prototype.handle_message = function (fig, msg) {\n",
       "    fig.message.textContent = msg['message'];\n",
       "};\n",
       "\n",
       "mpl.figure.prototype.handle_draw = function (fig, _msg) {\n",
       "    // Request the server to send over a new figure.\n",
       "    fig.send_draw_message();\n",
       "};\n",
       "\n",
       "mpl.figure.prototype.handle_image_mode = function (fig, msg) {\n",
       "    fig.image_mode = msg['mode'];\n",
       "};\n",
       "\n",
       "mpl.figure.prototype.handle_history_buttons = function (fig, msg) {\n",
       "    for (var key in msg) {\n",
       "        if (!(key in fig.buttons)) {\n",
       "            continue;\n",
       "        }\n",
       "        fig.buttons[key].disabled = !msg[key];\n",
       "        fig.buttons[key].setAttribute('aria-disabled', !msg[key]);\n",
       "    }\n",
       "};\n",
       "\n",
       "mpl.figure.prototype.handle_navigate_mode = function (fig, msg) {\n",
       "    if (msg['mode'] === 'PAN') {\n",
       "        fig.buttons['Pan'].classList.add('active');\n",
       "        fig.buttons['Zoom'].classList.remove('active');\n",
       "    } else if (msg['mode'] === 'ZOOM') {\n",
       "        fig.buttons['Pan'].classList.remove('active');\n",
       "        fig.buttons['Zoom'].classList.add('active');\n",
       "    } else {\n",
       "        fig.buttons['Pan'].classList.remove('active');\n",
       "        fig.buttons['Zoom'].classList.remove('active');\n",
       "    }\n",
       "};\n",
       "\n",
       "mpl.figure.prototype.updated_canvas_event = function () {\n",
       "    // Called whenever the canvas gets updated.\n",
       "    this.send_message('ack', {});\n",
       "};\n",
       "\n",
       "// A function to construct a web socket function for onmessage handling.\n",
       "// Called in the figure constructor.\n",
       "mpl.figure.prototype._make_on_message_function = function (fig) {\n",
       "    return function socket_on_message(evt) {\n",
       "        if (evt.data instanceof Blob) {\n",
       "            var img = evt.data;\n",
       "            if (img.type !== 'image/png') {\n",
       "                /* FIXME: We get \"Resource interpreted as Image but\n",
       "                 * transferred with MIME type text/plain:\" errors on\n",
       "                 * Chrome.  But how to set the MIME type?  It doesn't seem\n",
       "                 * to be part of the websocket stream */\n",
       "                img.type = 'image/png';\n",
       "            }\n",
       "\n",
       "            /* Free the memory for the previous frames */\n",
       "            if (fig.imageObj.src) {\n",
       "                (window.URL || window.webkitURL).revokeObjectURL(\n",
       "                    fig.imageObj.src\n",
       "                );\n",
       "            }\n",
       "\n",
       "            fig.imageObj.src = (window.URL || window.webkitURL).createObjectURL(\n",
       "                img\n",
       "            );\n",
       "            fig.updated_canvas_event();\n",
       "            fig.waiting = false;\n",
       "            return;\n",
       "        } else if (\n",
       "            typeof evt.data === 'string' &&\n",
       "            evt.data.slice(0, 21) === 'data:image/png;base64'\n",
       "        ) {\n",
       "            fig.imageObj.src = evt.data;\n",
       "            fig.updated_canvas_event();\n",
       "            fig.waiting = false;\n",
       "            return;\n",
       "        }\n",
       "\n",
       "        var msg = JSON.parse(evt.data);\n",
       "        var msg_type = msg['type'];\n",
       "\n",
       "        // Call the  \"handle_{type}\" callback, which takes\n",
       "        // the figure and JSON message as its only arguments.\n",
       "        try {\n",
       "            var callback = fig['handle_' + msg_type];\n",
       "        } catch (e) {\n",
       "            console.log(\n",
       "                \"No handler for the '\" + msg_type + \"' message type: \",\n",
       "                msg\n",
       "            );\n",
       "            return;\n",
       "        }\n",
       "\n",
       "        if (callback) {\n",
       "            try {\n",
       "                // console.log(\"Handling '\" + msg_type + \"' message: \", msg);\n",
       "                callback(fig, msg);\n",
       "            } catch (e) {\n",
       "                console.log(\n",
       "                    \"Exception inside the 'handler_\" + msg_type + \"' callback:\",\n",
       "                    e,\n",
       "                    e.stack,\n",
       "                    msg\n",
       "                );\n",
       "            }\n",
       "        }\n",
       "    };\n",
       "};\n",
       "\n",
       "function getModifiers(event) {\n",
       "    var mods = [];\n",
       "    if (event.ctrlKey) {\n",
       "        mods.push('ctrl');\n",
       "    }\n",
       "    if (event.altKey) {\n",
       "        mods.push('alt');\n",
       "    }\n",
       "    if (event.shiftKey) {\n",
       "        mods.push('shift');\n",
       "    }\n",
       "    if (event.metaKey) {\n",
       "        mods.push('meta');\n",
       "    }\n",
       "    return mods;\n",
       "}\n",
       "\n",
       "/*\n",
       " * return a copy of an object with only non-object keys\n",
       " * we need this to avoid circular references\n",
       " * https://stackoverflow.com/a/24161582/3208463\n",
       " */\n",
       "function simpleKeys(original) {\n",
       "    return Object.keys(original).reduce(function (obj, key) {\n",
       "        if (typeof original[key] !== 'object') {\n",
       "            obj[key] = original[key];\n",
       "        }\n",
       "        return obj;\n",
       "    }, {});\n",
       "}\n",
       "\n",
       "mpl.figure.prototype.mouse_event = function (event, name) {\n",
       "    if (name === 'button_press') {\n",
       "        this.canvas.focus();\n",
       "        this.canvas_div.focus();\n",
       "    }\n",
       "\n",
       "    // from https://stackoverflow.com/q/1114465\n",
       "    var boundingRect = this.canvas.getBoundingClientRect();\n",
       "    var x = (event.clientX - boundingRect.left) * this.ratio;\n",
       "    var y = (event.clientY - boundingRect.top) * this.ratio;\n",
       "\n",
       "    this.send_message(name, {\n",
       "        x: x,\n",
       "        y: y,\n",
       "        button: event.button,\n",
       "        step: event.step,\n",
       "        modifiers: getModifiers(event),\n",
       "        guiEvent: simpleKeys(event),\n",
       "    });\n",
       "\n",
       "    return false;\n",
       "};\n",
       "\n",
       "mpl.figure.prototype._key_event_extra = function (_event, _name) {\n",
       "    // Handle any extra behaviour associated with a key event\n",
       "};\n",
       "\n",
       "mpl.figure.prototype.key_event = function (event, name) {\n",
       "    // Prevent repeat events\n",
       "    if (name === 'key_press') {\n",
       "        if (event.key === this._key) {\n",
       "            return;\n",
       "        } else {\n",
       "            this._key = event.key;\n",
       "        }\n",
       "    }\n",
       "    if (name === 'key_release') {\n",
       "        this._key = null;\n",
       "    }\n",
       "\n",
       "    var value = '';\n",
       "    if (event.ctrlKey && event.key !== 'Control') {\n",
       "        value += 'ctrl+';\n",
       "    }\n",
       "    else if (event.altKey && event.key !== 'Alt') {\n",
       "        value += 'alt+';\n",
       "    }\n",
       "    else if (event.shiftKey && event.key !== 'Shift') {\n",
       "        value += 'shift+';\n",
       "    }\n",
       "\n",
       "    value += 'k' + event.key;\n",
       "\n",
       "    this._key_event_extra(event, name);\n",
       "\n",
       "    this.send_message(name, { key: value, guiEvent: simpleKeys(event) });\n",
       "    return false;\n",
       "};\n",
       "\n",
       "mpl.figure.prototype.toolbar_button_onclick = function (name) {\n",
       "    if (name === 'download') {\n",
       "        this.handle_save(this, null);\n",
       "    } else {\n",
       "        this.send_message('toolbar_button', { name: name });\n",
       "    }\n",
       "};\n",
       "\n",
       "mpl.figure.prototype.toolbar_button_onmouseover = function (tooltip) {\n",
       "    this.message.textContent = tooltip;\n",
       "};\n",
       "\n",
       "///////////////// REMAINING CONTENT GENERATED BY embed_js.py /////////////////\n",
       "// prettier-ignore\n",
       "var _JSXTOOLS_RESIZE_OBSERVER=function(A){var t,i=new WeakMap,n=new WeakMap,a=new WeakMap,r=new WeakMap,o=new Set;function s(e){if(!(this instanceof s))throw new TypeError(\"Constructor requires 'new' operator\");i.set(this,e)}function h(){throw new TypeError(\"Function is not a constructor\")}function c(e,t,i,n){e=0 in arguments?Number(arguments[0]):0,t=1 in arguments?Number(arguments[1]):0,i=2 in arguments?Number(arguments[2]):0,n=3 in arguments?Number(arguments[3]):0,this.right=(this.x=this.left=e)+(this.width=i),this.bottom=(this.y=this.top=t)+(this.height=n),Object.freeze(this)}function d(){t=requestAnimationFrame(d);var s=new WeakMap,p=new Set;o.forEach((function(t){r.get(t).forEach((function(i){var r=t instanceof window.SVGElement,o=a.get(t),d=r?0:parseFloat(o.paddingTop),f=r?0:parseFloat(o.paddingRight),l=r?0:parseFloat(o.paddingBottom),u=r?0:parseFloat(o.paddingLeft),g=r?0:parseFloat(o.borderTopWidth),m=r?0:parseFloat(o.borderRightWidth),w=r?0:parseFloat(o.borderBottomWidth),b=u+f,F=d+l,v=(r?0:parseFloat(o.borderLeftWidth))+m,W=g+w,y=r?0:t.offsetHeight-W-t.clientHeight,E=r?0:t.offsetWidth-v-t.clientWidth,R=b+v,z=F+W,M=r?t.width:parseFloat(o.width)-R-E,O=r?t.height:parseFloat(o.height)-z-y;if(n.has(t)){var k=n.get(t);if(k[0]===M&&k[1]===O)return}n.set(t,[M,O]);var S=Object.create(h.prototype);S.target=t,S.contentRect=new c(u,d,M,O),s.has(i)||(s.set(i,[]),p.add(i)),s.get(i).push(S)}))})),p.forEach((function(e){i.get(e).call(e,s.get(e),e)}))}return s.prototype.observe=function(i){if(i instanceof window.Element){r.has(i)||(r.set(i,new Set),o.add(i),a.set(i,window.getComputedStyle(i)));var n=r.get(i);n.has(this)||n.add(this),cancelAnimationFrame(t),t=requestAnimationFrame(d)}},s.prototype.unobserve=function(i){if(i instanceof window.Element&&r.has(i)){var n=r.get(i);n.has(this)&&(n.delete(this),n.size||(r.delete(i),o.delete(i))),n.size||r.delete(i),o.size||cancelAnimationFrame(t)}},A.DOMRectReadOnly=c,A.ResizeObserver=s,A.ResizeObserverEntry=h,A}; // eslint-disable-line\n",
       "mpl.toolbar_items = [[\"Home\", \"Reset original view\", \"fa fa-home\", \"home\"], [\"Back\", \"Back to previous view\", \"fa fa-arrow-left\", \"back\"], [\"Forward\", \"Forward to next view\", \"fa fa-arrow-right\", \"forward\"], [\"\", \"\", \"\", \"\"], [\"Pan\", \"Left button pans, Right button zooms\\nx/y fixes axis, CTRL fixes aspect\", \"fa fa-arrows\", \"pan\"], [\"Zoom\", \"Zoom to rectangle\\nx/y fixes axis\", \"fa fa-square-o\", \"zoom\"], [\"\", \"\", \"\", \"\"], [\"Download\", \"Download plot\", \"fa fa-floppy-o\", \"download\"]];\n",
       "\n",
       "mpl.extensions = [\"eps\", \"jpeg\", \"pgf\", \"pdf\", \"png\", \"ps\", \"raw\", \"svg\", \"tif\", \"webp\"];\n",
       "\n",
       "mpl.default_extension = \"png\";/* global mpl */\n",
       "\n",
       "var comm_websocket_adapter = function (comm) {\n",
       "    // Create a \"websocket\"-like object which calls the given IPython comm\n",
       "    // object with the appropriate methods. Currently this is a non binary\n",
       "    // socket, so there is still some room for performance tuning.\n",
       "    var ws = {};\n",
       "\n",
       "    ws.binaryType = comm.kernel.ws.binaryType;\n",
       "    ws.readyState = comm.kernel.ws.readyState;\n",
       "    function updateReadyState(_event) {\n",
       "        if (comm.kernel.ws) {\n",
       "            ws.readyState = comm.kernel.ws.readyState;\n",
       "        } else {\n",
       "            ws.readyState = 3; // Closed state.\n",
       "        }\n",
       "    }\n",
       "    comm.kernel.ws.addEventListener('open', updateReadyState);\n",
       "    comm.kernel.ws.addEventListener('close', updateReadyState);\n",
       "    comm.kernel.ws.addEventListener('error', updateReadyState);\n",
       "\n",
       "    ws.close = function () {\n",
       "        comm.close();\n",
       "    };\n",
       "    ws.send = function (m) {\n",
       "        //console.log('sending', m);\n",
       "        comm.send(m);\n",
       "    };\n",
       "    // Register the callback with on_msg.\n",
       "    comm.on_msg(function (msg) {\n",
       "        //console.log('receiving', msg['content']['data'], msg);\n",
       "        var data = msg['content']['data'];\n",
       "        if (data['blob'] !== undefined) {\n",
       "            data = {\n",
       "                data: new Blob(msg['buffers'], { type: data['blob'] }),\n",
       "            };\n",
       "        }\n",
       "        // Pass the mpl event to the overridden (by mpl) onmessage function.\n",
       "        ws.onmessage(data);\n",
       "    });\n",
       "    return ws;\n",
       "};\n",
       "\n",
       "mpl.mpl_figure_comm = function (comm, msg) {\n",
       "    // This is the function which gets called when the mpl process\n",
       "    // starts-up an IPython Comm through the \"matplotlib\" channel.\n",
       "\n",
       "    var id = msg.content.data.id;\n",
       "    // Get hold of the div created by the display call when the Comm\n",
       "    // socket was opened in Python.\n",
       "    var element = document.getElementById(id);\n",
       "    var ws_proxy = comm_websocket_adapter(comm);\n",
       "\n",
       "    function ondownload(figure, _format) {\n",
       "        window.open(figure.canvas.toDataURL());\n",
       "    }\n",
       "\n",
       "    var fig = new mpl.figure(id, ws_proxy, ondownload, element);\n",
       "\n",
       "    // Call onopen now - mpl needs it, as it is assuming we've passed it a real\n",
       "    // web socket which is closed, not our websocket->open comm proxy.\n",
       "    ws_proxy.onopen();\n",
       "\n",
       "    fig.parent_element = element;\n",
       "    fig.cell_info = mpl.find_output_cell(\"<div id='\" + id + \"'></div>\");\n",
       "    if (!fig.cell_info) {\n",
       "        console.error('Failed to find cell for figure', id, fig);\n",
       "        return;\n",
       "    }\n",
       "    fig.cell_info[0].output_area.element.on(\n",
       "        'cleared',\n",
       "        { fig: fig },\n",
       "        fig._remove_fig_handler\n",
       "    );\n",
       "};\n",
       "\n",
       "mpl.figure.prototype.handle_close = function (fig, msg) {\n",
       "    var width = fig.canvas.width / fig.ratio;\n",
       "    fig.cell_info[0].output_area.element.off(\n",
       "        'cleared',\n",
       "        fig._remove_fig_handler\n",
       "    );\n",
       "    fig.resizeObserverInstance.unobserve(fig.canvas_div);\n",
       "\n",
       "    // Update the output cell to use the data from the current canvas.\n",
       "    fig.push_to_output();\n",
       "    var dataURL = fig.canvas.toDataURL();\n",
       "    // Re-enable the keyboard manager in IPython - without this line, in FF,\n",
       "    // the notebook keyboard shortcuts fail.\n",
       "    IPython.keyboard_manager.enable();\n",
       "    fig.parent_element.innerHTML =\n",
       "        '<img src=\"' + dataURL + '\" width=\"' + width + '\">';\n",
       "    fig.close_ws(fig, msg);\n",
       "};\n",
       "\n",
       "mpl.figure.prototype.close_ws = function (fig, msg) {\n",
       "    fig.send_message('closing', msg);\n",
       "    // fig.ws.close()\n",
       "};\n",
       "\n",
       "mpl.figure.prototype.push_to_output = function (_remove_interactive) {\n",
       "    // Turn the data on the canvas into data in the output cell.\n",
       "    var width = this.canvas.width / this.ratio;\n",
       "    var dataURL = this.canvas.toDataURL();\n",
       "    this.cell_info[1]['text/html'] =\n",
       "        '<img src=\"' + dataURL + '\" width=\"' + width + '\">';\n",
       "};\n",
       "\n",
       "mpl.figure.prototype.updated_canvas_event = function () {\n",
       "    // Tell IPython that the notebook contents must change.\n",
       "    IPython.notebook.set_dirty(true);\n",
       "    this.send_message('ack', {});\n",
       "    var fig = this;\n",
       "    // Wait a second, then push the new image to the DOM so\n",
       "    // that it is saved nicely (might be nice to debounce this).\n",
       "    setTimeout(function () {\n",
       "        fig.push_to_output();\n",
       "    }, 1000);\n",
       "};\n",
       "\n",
       "mpl.figure.prototype._init_toolbar = function () {\n",
       "    var fig = this;\n",
       "\n",
       "    var toolbar = document.createElement('div');\n",
       "    toolbar.classList = 'btn-toolbar';\n",
       "    this.root.appendChild(toolbar);\n",
       "\n",
       "    function on_click_closure(name) {\n",
       "        return function (_event) {\n",
       "            return fig.toolbar_button_onclick(name);\n",
       "        };\n",
       "    }\n",
       "\n",
       "    function on_mouseover_closure(tooltip) {\n",
       "        return function (event) {\n",
       "            if (!event.currentTarget.disabled) {\n",
       "                return fig.toolbar_button_onmouseover(tooltip);\n",
       "            }\n",
       "        };\n",
       "    }\n",
       "\n",
       "    fig.buttons = {};\n",
       "    var buttonGroup = document.createElement('div');\n",
       "    buttonGroup.classList = 'btn-group';\n",
       "    var button;\n",
       "    for (var toolbar_ind in mpl.toolbar_items) {\n",
       "        var name = mpl.toolbar_items[toolbar_ind][0];\n",
       "        var tooltip = mpl.toolbar_items[toolbar_ind][1];\n",
       "        var image = mpl.toolbar_items[toolbar_ind][2];\n",
       "        var method_name = mpl.toolbar_items[toolbar_ind][3];\n",
       "\n",
       "        if (!name) {\n",
       "            /* Instead of a spacer, we start a new button group. */\n",
       "            if (buttonGroup.hasChildNodes()) {\n",
       "                toolbar.appendChild(buttonGroup);\n",
       "            }\n",
       "            buttonGroup = document.createElement('div');\n",
       "            buttonGroup.classList = 'btn-group';\n",
       "            continue;\n",
       "        }\n",
       "\n",
       "        button = fig.buttons[name] = document.createElement('button');\n",
       "        button.classList = 'btn btn-default';\n",
       "        button.href = '#';\n",
       "        button.title = name;\n",
       "        button.innerHTML = '<i class=\"fa ' + image + ' fa-lg\"></i>';\n",
       "        button.addEventListener('click', on_click_closure(method_name));\n",
       "        button.addEventListener('mouseover', on_mouseover_closure(tooltip));\n",
       "        buttonGroup.appendChild(button);\n",
       "    }\n",
       "\n",
       "    if (buttonGroup.hasChildNodes()) {\n",
       "        toolbar.appendChild(buttonGroup);\n",
       "    }\n",
       "\n",
       "    // Add the status bar.\n",
       "    var status_bar = document.createElement('span');\n",
       "    status_bar.classList = 'mpl-message pull-right';\n",
       "    toolbar.appendChild(status_bar);\n",
       "    this.message = status_bar;\n",
       "\n",
       "    // Add the close button to the window.\n",
       "    var buttongrp = document.createElement('div');\n",
       "    buttongrp.classList = 'btn-group inline pull-right';\n",
       "    button = document.createElement('button');\n",
       "    button.classList = 'btn btn-mini btn-primary';\n",
       "    button.href = '#';\n",
       "    button.title = 'Stop Interaction';\n",
       "    button.innerHTML = '<i class=\"fa fa-power-off icon-remove icon-large\"></i>';\n",
       "    button.addEventListener('click', function (_evt) {\n",
       "        fig.handle_close(fig, {});\n",
       "    });\n",
       "    button.addEventListener(\n",
       "        'mouseover',\n",
       "        on_mouseover_closure('Stop Interaction')\n",
       "    );\n",
       "    buttongrp.appendChild(button);\n",
       "    var titlebar = this.root.querySelector('.ui-dialog-titlebar');\n",
       "    titlebar.insertBefore(buttongrp, titlebar.firstChild);\n",
       "};\n",
       "\n",
       "mpl.figure.prototype._remove_fig_handler = function (event) {\n",
       "    var fig = event.data.fig;\n",
       "    if (event.target !== this) {\n",
       "        // Ignore bubbled events from children.\n",
       "        return;\n",
       "    }\n",
       "    fig.close_ws(fig, {});\n",
       "};\n",
       "\n",
       "mpl.figure.prototype._root_extra_style = function (el) {\n",
       "    el.style.boxSizing = 'content-box'; // override notebook setting of border-box.\n",
       "};\n",
       "\n",
       "mpl.figure.prototype._canvas_extra_style = function (el) {\n",
       "    // this is important to make the div 'focusable\n",
       "    el.setAttribute('tabindex', 0);\n",
       "    // reach out to IPython and tell the keyboard manager to turn it's self\n",
       "    // off when our div gets focus\n",
       "\n",
       "    // location in version 3\n",
       "    if (IPython.notebook.keyboard_manager) {\n",
       "        IPython.notebook.keyboard_manager.register_events(el);\n",
       "    } else {\n",
       "        // location in version 2\n",
       "        IPython.keyboard_manager.register_events(el);\n",
       "    }\n",
       "};\n",
       "\n",
       "mpl.figure.prototype._key_event_extra = function (event, _name) {\n",
       "    // Check for shift+enter\n",
       "    if (event.shiftKey && event.which === 13) {\n",
       "        this.canvas_div.blur();\n",
       "        // select the cell after this one\n",
       "        var index = IPython.notebook.find_cell_index(this.cell_info[0]);\n",
       "        IPython.notebook.select(index + 1);\n",
       "    }\n",
       "};\n",
       "\n",
       "mpl.figure.prototype.handle_save = function (fig, _msg) {\n",
       "    fig.ondownload(fig, null);\n",
       "};\n",
       "\n",
       "mpl.find_output_cell = function (html_output) {\n",
       "    // Return the cell and output element which can be found *uniquely* in the notebook.\n",
       "    // Note - this is a bit hacky, but it is done because the \"notebook_saving.Notebook\"\n",
       "    // IPython event is triggered only after the cells have been serialised, which for\n",
       "    // our purposes (turning an active figure into a static one), is too late.\n",
       "    var cells = IPython.notebook.get_cells();\n",
       "    var ncells = cells.length;\n",
       "    for (var i = 0; i < ncells; i++) {\n",
       "        var cell = cells[i];\n",
       "        if (cell.cell_type === 'code') {\n",
       "            for (var j = 0; j < cell.output_area.outputs.length; j++) {\n",
       "                var data = cell.output_area.outputs[j];\n",
       "                if (data.data) {\n",
       "                    // IPython >= 3 moved mimebundle to data attribute of output\n",
       "                    data = data.data;\n",
       "                }\n",
       "                if (data['text/html'] === html_output) {\n",
       "                    return [cell, data, j];\n",
       "                }\n",
       "            }\n",
       "        }\n",
       "    }\n",
       "};\n",
       "\n",
       "// Register the function which deals with the matplotlib target/channel.\n",
       "// The kernel may be null if the page has been refreshed.\n",
       "if (IPython.notebook.kernel !== null) {\n",
       "    IPython.notebook.kernel.comm_manager.register_target(\n",
       "        'matplotlib',\n",
       "        mpl.mpl_figure_comm\n",
       "    );\n",
       "}\n"
      ],
      "text/plain": [
       "<IPython.core.display.Javascript object>"
      ]
     },
     "metadata": {},
     "output_type": "display_data"
    },
    {
     "data": {
      "text/html": [
       "<img src=\"data:image/png;base64,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\" width=\"640\">"
      ],
      "text/plain": [
       "<IPython.core.display.HTML object>"
      ]
     },
     "metadata": {},
     "output_type": "display_data"
    },
    {
     "data": {
      "text/plain": [
       "{('Mark', 'Cat'): Text(-1.0, 3.0, 'has a'),\n",
       " ('Mark', 'student'): Text(1.0, -2.5, 'is a'),\n",
       " ('Mark', 'soccer'): Text(-2.5, 1.0, 'plays'),\n",
       " ('Mark', 'spinoff'): Text(-2.5, -2.5, 'is a part of'),\n",
       " ('Mark', 'california'): Text(2.0, 3.0, 'lives in'),\n",
       " ('Mark', 'animal'): Text(0.5, 3.0, 'loves'),\n",
       " ('Cat', 'animal'): Text(-0.5, 6.0, 'is a'),\n",
       " ('student', 'CSU'): Text(3.5, -3.0, 'in'),\n",
       " ('spinoff', 'sports'): Text(-2.5, -6.5, 'is a '),\n",
       " ('CSU', 'california'): Text(4.5, 2.5, 'is in ')}"
      ]
     },
     "execution_count": 34,
     "metadata": {},
     "output_type": "execute_result"
    }
   ],
   "source": [
    "plt.figure()\n",
    "nx.draw_networkx(graph_Mark,pos,font_weight ='bold',node_size=2000,font_size=7)\n",
    "nx.draw_networkx_edge_labels(graph_Mark,pos,edge_labels=weight)"
   ]
  },
  {
   "cell_type": "markdown",
   "id": "790d2218",
   "metadata": {},
   "source": [
    "# Design and Deployment of an Expert System"
   ]
  },
  {
   "cell_type": "code",
   "execution_count": null,
   "id": "5796931c",
   "metadata": {},
   "outputs": [],
   "source": []
  },
  {
   "cell_type": "code",
   "execution_count": null,
   "id": "bc04a6ea",
   "metadata": {},
   "outputs": [],
   "source": []
  },
  {
   "cell_type": "markdown",
   "id": "51098daf",
   "metadata": {},
   "source": [
    "# Building Bayesian Networks in Python"
   ]
  },
  {
   "cell_type": "code",
   "execution_count": null,
   "id": "2a345b55",
   "metadata": {},
   "outputs": [],
   "source": [
    "link=https://github.com/gurubalan077/2end-year-python-file/tree/main"
   ]
  },
  {
   "cell_type": "code",
   "execution_count": null,
   "id": "6d391eb3",
   "metadata": {},
   "outputs": [],
   "source": [
    "pip install protopunica"
   ]
  },
  {
   "cell_type": "code",
   "execution_count": null,
   "id": "86189b9a",
   "metadata": {},
   "outputs": [],
   "source": [
    "from protopunica import*"
   ]
  },
  {
   "cell_type": "code",
   "execution_count": null,
   "id": "6080e7e7",
   "metadata": {},
   "outputs": [],
   "source": [
    "smoking = Node(DiscreteDistribution({\n",
    "    \"High smoking\":0.7,\n",
    "    \"Low smoking\":0.3\n",
    "}),name=\"smoking\")"
   ]
  },
  {
   "cell_type": "code",
   "execution_count": null,
   "id": "d693b3a2",
   "metadata": {},
   "outputs": [],
   "source": [
    "asbes_consum = Node(DiscreteDistribution({\n",
    "    \"High Cons\":0.3,\n",
    "    \"Low Cons\":0.7\n",
    "}),name=\"asbes_consum\")"
   ]
  },
  {
   "cell_type": "code",
   "execution_count": null,
   "id": "0c7672c2",
   "metadata": {},
   "outputs": [],
   "source": [
    "Cancer = Node(ConditionalProbabilityTable([\n",
    "    [\"High smoking\",\"High Cons\",\"Pos\",0.4],\n",
    "    [\"High smoking\",\"High Cons\",\"Neg\",0.6],\n",
    "    [\"High smoking\",\"Low Cons\",\"Pos\",0.3],\n",
    "    [\"High smoking\",\"Low Cons\",\"Neg\",0.7],\n",
    "    [\"Low smoking\",\"Low Cons\",\"Pos\",0.1],\n",
    "    [\"Low smoking\",\"Low Cons\",\"Neg\",0.9],\n",
    "    [\"Low smoking\",\"High Cons\",\"Pos\",0.02],\n",
    "    [\"Low smoking\",\"High Cons\",\"Neg\",0.98],],\n",
    "    [smoking.distribution,asbes_consum.distribution]),name = \"Cancer\")"
   ]
  },
  {
   "cell_type": "code",
   "execution_count": null,
   "id": "38bac0a0",
   "metadata": {},
   "outputs": [],
   "source": [
    "scan = Node(ConditionalProbabilityTable([\n",
    "    [\"Pos\",\"scan_pos\",0.8],\n",
    "    [\"Pos\",\"scan_neg\",0.2],\n",
    "    [\"Neg\",\"scan_pos\",0.8],\n",
    "    [\"Neg\",\"scan_neg\",0.8]\n",
    "],[Cancer.distribution]),name=\"scan\")"
   ]
  },
  {
   "cell_type": "code",
   "execution_count": null,
   "id": "5405bb11",
   "metadata": {},
   "outputs": [],
   "source": [
    "Blood_vomiting = Node(ConditionalProbabilityTable([\n",
    "    [\"Pos\",\"B.V_pos\",0.7],\n",
    "    [\"Pos\",\"B.V_neg\",0.3],\n",
    "    [\"Neg\",\"B.V_pos\",0.2],\n",
    "    [\"Neg\",\"B.V_neg\",0.8],\n",
    "],[Cancer.distribution]),name=\"Blood_vomiting\")"
   ]
  },
  {
   "cell_type": "code",
   "execution_count": null,
   "id": "0ad2bfa8",
   "metadata": {},
   "outputs": [],
   "source": [
    "model=BayesianNetwork()"
   ]
  },
  {
   "cell_type": "code",
   "execution_count": null,
   "id": "5e960b85",
   "metadata": {},
   "outputs": [],
   "source": [
    "model.add_states(smoking,asbes_consum,Cancer,scan,Blood_vomiting)"
   ]
  },
  {
   "cell_type": "code",
   "execution_count": null,
   "id": "677d0aeb",
   "metadata": {},
   "outputs": [],
   "source": [
    "model.add_edge(smoking,Cancer)\n",
    "model.add_edge(asbes_consum,Cancer)\n",
    "model.add_edge(Cancer,scan)\n",
    "model.add_edge(Cancer,Blood_vomiting)"
   ]
  },
  {
   "cell_type": "code",
   "execution_count": null,
   "id": "d8ff3130",
   "metadata": {},
   "outputs": [],
   "source": [
    "model.bake()"
   ]
  },
  {
   "cell_type": "code",
   "execution_count": null,
   "id": "237f19c0",
   "metadata": {},
   "outputs": [],
   "source": [
    "model"
   ]
  },
  {
   "cell_type": "code",
   "execution_count": null,
   "id": "f2d9a164",
   "metadata": {},
   "outputs": [],
   "source": [
    "probability=model.probability([[\"Low smoking\",\"Low Cons\",\"Pos\",\"scan_pos\",\"B.V_pos\"]])"
   ]
  },
  {
   "cell_type": "code",
   "execution_count": null,
   "id": "fd77d733",
   "metadata": {},
   "outputs": [],
   "source": [
    "probability"
   ]
  },
  {
   "cell_type": "markdown",
   "id": "b7e8ac2d",
   "metadata": {},
   "source": [
    "# Building Markov Chain Model"
   ]
  },
  {
   "cell_type": "code",
   "execution_count": null,
   "id": "712aff93",
   "metadata": {},
   "outputs": [],
   "source": [
    "from protopunica import *\n",
    "import numpy as np"
   ]
  },
  {
   "cell_type": "code",
   "execution_count": null,
   "id": "7bb02749",
   "metadata": {},
   "outputs": [],
   "source": [
    "start = DiscreteDistribution({\n",
    "    \"Pizza\":1,\n",
    "    \"Veg\":0\n",
    "})"
   ]
  },
  {
   "cell_type": "code",
   "execution_count": null,
   "id": "1badf5ba",
   "metadata": {},
   "outputs": [],
   "source": [
    "Transitions = ConditionalProbabilityTable([\n",
    "    [\"Pizza\",\"Pizza\",0.75],\n",
    "    [\"Pizza\",\"Veg\",0.25],\n",
    "    [\"Veg\",\"Veg\",0.6],\n",
    "    [\"Veg\",\"Pizza\",0.4],\n",
    "],[start])"
   ]
  },
  {
   "cell_type": "code",
   "execution_count": null,
   "id": "307073a1",
   "metadata": {},
   "outputs": [],
   "source": [
    "Model=MarkovChain([start,Transitions])"
   ]
  },
  {
   "cell_type": "code",
   "execution_count": null,
   "id": "c552ae61",
   "metadata": {},
   "outputs": [],
   "source": [
    "Random_samples=Model.sample(2)"
   ]
  },
  {
   "cell_type": "code",
   "execution_count": null,
   "id": "b30ac5e9",
   "metadata": {},
   "outputs": [],
   "source": [
    "print(Random_samples)"
   ]
  },
  {
   "cell_type": "code",
   "execution_count": null,
   "id": "985a209b",
   "metadata": {},
   "outputs": [],
   "source": [
    "Log_probalility=Model.log_probability(Random_samples)"
   ]
  },
  {
   "cell_type": "code",
   "execution_count": null,
   "id": "9375624c",
   "metadata": {},
   "outputs": [],
   "source": [
    "Probability_of_Occurance=np.exp(Log_probalility)"
   ]
  },
  {
   "cell_type": "code",
   "execution_count": null,
   "id": "661fb7be",
   "metadata": {},
   "outputs": [],
   "source": [
    "Probability_of_Occurance"
   ]
  },
  {
   "cell_type": "code",
   "execution_count": null,
   "id": "203551f6",
   "metadata": {},
   "outputs": [],
   "source": [
    "Log_probalility_Food_Sequence=Model.log_probability([\"Pizza\",\"Veg\",\"Veg\",\"Pizza\"])"
   ]
  },
  {
   "cell_type": "code",
   "execution_count": null,
   "id": "b0b9c2eb",
   "metadata": {},
   "outputs": [],
   "source": [
    "probalility_of_Food_ = np.exp(Log_probalility_Food_Sequence)"
   ]
  },
  {
   "cell_type": "code",
   "execution_count": null,
   "id": "bdb809b2",
   "metadata": {},
   "outputs": [],
   "source": [
    "print(probalility_of_Food_)"
   ]
  },
  {
   "cell_type": "markdown",
   "id": "489c82bd",
   "metadata": {},
   "source": [
    "# hide_Markov_model"
   ]
  },
  {
   "cell_type": "code",
   "execution_count": null,
   "id": "97a0fdb5",
   "metadata": {},
   "outputs": [],
   "source": [
    "from protopunica import *"
   ]
  },
  {
   "cell_type": "code",
   "execution_count": null,
   "id": "0de9b84a",
   "metadata": {},
   "outputs": [],
   "source": [
    "pip install pandas"
   ]
  },
  {
   "cell_type": "code",
   "execution_count": null,
   "id": "6e56cbd7",
   "metadata": {},
   "outputs": [],
   "source": [
    "import pandas as pd"
   ]
  },
  {
   "cell_type": "code",
   "execution_count": null,
   "id": "23ce60b6",
   "metadata": {},
   "outputs": [],
   "source": [
    "sunny = DiscreteDistribution({\n",
    "    \"raincoat\" : 0.1,\n",
    "    \"Hat\" : 0.9\n",
    "})\n",
    "\n",
    "rainy = DiscreteDistribution({\n",
    "     \"raincoat\" : 0.1,\n",
    "    \"Hat\" : 0.9\n",
    "})"
   ]
  },
  {
   "cell_type": "code",
   "execution_count": null,
   "id": "520dcbeb",
   "metadata": {},
   "outputs": [],
   "source": [
    "states=[sunny,rainy]"
   ]
  },
  {
   "cell_type": "code",
   "execution_count": null,
   "id": "adf09b68",
   "metadata": {},
   "outputs": [],
   "source": [
    "transition_model= numpy.array(\n",
    "[[0.7,0.3],\n",
    "[0.4,0.6]]\n",
    ")"
   ]
  },
  {
   "cell_type": "code",
   "execution_count": null,
   "id": "c6831f71",
   "metadata": {},
   "outputs": [],
   "source": [
    "Initial_state = numpy.array([0.3,0.7])"
   ]
  },
  {
   "cell_type": "code",
   "execution_count": null,
   "id": "ecc0bef9",
   "metadata": {},
   "outputs": [],
   "source": [
    "model=HiddenMarkovModel.from_matrix(\n",
    "transition_model,states,Initial_state,\n",
    "state_names=[\"sunny\",\"rainy\"])"
   ]
  },
  {
   "cell_type": "code",
   "execution_count": null,
   "id": "3eca1dfc",
   "metadata": {},
   "outputs": [],
   "source": [
    "model.bake()"
   ]
  },
  {
   "cell_type": "code",
   "execution_count": null,
   "id": "274505cb",
   "metadata": {},
   "outputs": [],
   "source": [
    "observations=[\n",
    "    \"Hat\",\n",
    "    \"Hat\",\n",
    "    \"raincoat\",\n",
    "    \"raincoat\",\n",
    "    \"Hat\",\n",
    "    \"Hat\",\n",
    "    \"raincoat\",\n",
    "    \"Hat\",\n",
    "    \"Hat\"\n",
    "]"
   ]
  },
  {
   "cell_type": "code",
   "execution_count": null,
   "id": "2958beea",
   "metadata": {},
   "outputs": [],
   "source": [
    "predictions = model.predict(observations)"
   ]
  },
  {
   "cell_type": "code",
   "execution_count": null,
   "id": "fad17fff",
   "metadata": {},
   "outputs": [],
   "source": [
    "predictions"
   ]
  },
  {
   "cell_type": "code",
   "execution_count": null,
   "id": "47d9f2d9",
   "metadata": {},
   "outputs": [],
   "source": [
    "model"
   ]
  },
  {
   "cell_type": "code",
   "execution_count": null,
   "id": "167c030d",
   "metadata": {},
   "outputs": [],
   "source": [
    "for predictions in predictions:\n",
    "    print(model.states[predictions].name)"
   ]
  },
  {
   "cell_type": "code",
   "execution_count": null,
   "id": "a3b46f70",
   "metadata": {},
   "outputs": [],
   "source": [
    "predict_probabilities=model.predict_proba(observations)"
   ]
  },
  {
   "cell_type": "code",
   "execution_count": null,
   "id": "fcb7a011",
   "metadata": {},
   "outputs": [],
   "source": [
    "Most_likely_Weather=pd.DataFrame(predict_probabilities,columns=[\"sunny\",\"rainy\"])"
   ]
  },
  {
   "cell_type": "code",
   "execution_count": null,
   "id": "2691a989",
   "metadata": {},
   "outputs": [],
   "source": [
    "Most_likely_Weather"
   ]
  },
  {
   "cell_type": "code",
   "execution_count": null,
   "id": "32dfc886",
   "metadata": {},
   "outputs": [],
   "source": []
  },
  {
   "cell_type": "code",
   "execution_count": null,
   "id": "67a5a746",
   "metadata": {},
   "outputs": [],
   "source": []
  }
 ],
 "metadata": {
  "kernelspec": {
   "display_name": "Python 3 (ipykernel)",
   "language": "python",
   "name": "python3"
  },
  "language_info": {
   "codemirror_mode": {
    "name": "ipython",
    "version": 3
   },
   "file_extension": ".py",
   "mimetype": "text/x-python",
   "name": "python",
   "nbconvert_exporter": "python",
   "pygments_lexer": "ipython3",
   "version": "3.11.4"
  }
 },
 "nbformat": 4,
 "nbformat_minor": 5
}
